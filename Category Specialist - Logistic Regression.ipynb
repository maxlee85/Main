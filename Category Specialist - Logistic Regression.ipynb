{
 "cells": [
  {
   "cell_type": "code",
   "execution_count": 202,
   "metadata": {
    "ExecuteTime": {
     "end_time": "2019-03-11T21:28:36.878187Z",
     "start_time": "2019-03-11T21:28:36.873173Z"
    }
   },
   "outputs": [],
   "source": [
    "import pandas as pd"
   ]
  },
  {
   "cell_type": "code",
   "execution_count": 250,
   "metadata": {
    "ExecuteTime": {
     "end_time": "2019-03-11T21:58:04.763636Z",
     "start_time": "2019-03-11T21:58:04.479951Z"
    }
   },
   "outputs": [],
   "source": [
    "file = pd.read_csv('/filename.csv')"
   ]
  },
  {
   "cell_type": "code",
   "execution_count": 251,
   "metadata": {
    "ExecuteTime": {
     "end_time": "2019-03-11T21:58:07.111265Z",
     "start_time": "2019-03-11T21:58:05.210726Z"
    }
   },
   "outputs": [],
   "source": [
    "def is_offer(row):\n",
    "    if row['current_status.1'] == 'Hired' or row['current_status.1'] == 'Offer':\n",
    "        val = 1\n",
    "    else:\n",
    "        val = 0\n",
    "    return val\n",
    "\n",
    "file['is_offered'] = file.apply(is_offer, axis=1)\n",
    "\n",
    "# 'Hoboken, NJ, USA', 1\n",
    "# 'San Bruno, CA, USA', 2\n",
    "# 'Detroit, MI, USA', 3\n",
    "# 'Madison Heights, MI, USA', 4\n",
    "# 'Omaha, NE, USA', 5\n",
    "# 'Charlestown, MA, USA', 6\n",
    "\n",
    "def is_hoboken(row):\n",
    "    if row['primary_location'] == 'Hoboken, NJ, USA':\n",
    "        val = 1\n",
    "    else:\n",
    "        val = 0\n",
    "    return val\n",
    "\n",
    "def is_sb(row):\n",
    "    if row['primary_location'] == 'San Bruno, CA, USA':\n",
    "        val = 1\n",
    "    else:\n",
    "        val = 0\n",
    "    return val\n",
    "\n",
    "def is_d(row):\n",
    "    if row['primary_location'] == 'Detroit, MI, USA' or row['primary_location'] == 'Madison Heights, MI, USA':\n",
    "        val = 1\n",
    "    else:\n",
    "        val = 0\n",
    "    return val\n",
    "\n",
    "def is_o(row):\n",
    "    if row['primary_location'] == 'Omaha, NE, USA':\n",
    "        val = 1\n",
    "    else:\n",
    "        val = 0\n",
    "    return val\n",
    "\n",
    "def is_b(row):\n",
    "    if row['primary_location'] == 'Charlestown, MA, USA':\n",
    "        val = 1\n",
    "    else:\n",
    "        val = 0\n",
    "    return val\n",
    "\n",
    "file['is_hoboken'] = file.apply(is_hoboken, axis=1)\n",
    "file['is_sb'] = file.apply(is_sb, axis=1)\n",
    "file['is_d'] = file.apply(is_d, axis=1)\n",
    "file['is_o'] = file.apply(is_o, axis=1)\n",
    "file['is_b'] = file.apply(is_b, axis=1)"
   ]
  },
  {
   "cell_type": "code",
   "execution_count": 146,
   "metadata": {
    "ExecuteTime": {
     "end_time": "2019-03-11T20:15:02.311536Z",
     "start_time": "2019-03-11T20:15:02.299576Z"
    }
   },
   "outputs": [
    {
     "data": {
      "text/plain": [
       "{'candidate_source': {'Achieveyour.com': 1,\n",
       "  'AngelList': 2,\n",
       "  'BIYRfest ': 3,\n",
       "  'BRAG': 4,\n",
       "  'CSpec Event': 5,\n",
       "  'CSpec Microsite': 6,\n",
       "  'Campus Career Fair': 7,\n",
       "  'Campus Posting': 8,\n",
       "  'Contractor Conversion': 9,\n",
       "  'Event': 10,\n",
       "  'Glassdoor': 11,\n",
       "  'Indeed': 12,\n",
       "  'Internal Applicant': 13,\n",
       "  'Internal Applicant- Jet': 14,\n",
       "  'Internal Applicant- Walmart': 15,\n",
       "  'Jet': 16,\n",
       "  'Job fairs/Conferences/Trade shows': 17,\n",
       "  'Jobs page on your website': 18,\n",
       "  'Linear Search': 19,\n",
       "  'LinkedIn (Ad Posting)': 20,\n",
       "  'LinkedIn (Prospecting)': 21,\n",
       "  'LinkedIn (Social Media)': 22,\n",
       "  'Maildrop': 23,\n",
       "  'Other': 24,\n",
       "  'Pyramid Consulting': 25,\n",
       "  'Referral': 26,\n",
       "  'Referral from Walmart Employee': 27,\n",
       "  'Social media presence': 28,\n",
       "  'Source-A-Thon ': 29,\n",
       "  'Talener': 30,\n",
       "  'TalentRise': 31,\n",
       "  'Temporary Campus': 32,\n",
       "  'Uncubed': 33}}"
      ]
     },
     "execution_count": 146,
     "metadata": {},
     "output_type": "execute_result"
    }
   ],
   "source": [
    "# labels = file['candidate_source'].astype('category').cat.categories.tolist()\n",
    "# replace_map_comp = {'candidate_source' : {k: v for k,v in zip(labels,list(range(1,len(labels)+1)))}}\n",
    "# replace_map_comp"
   ]
  },
  {
   "cell_type": "code",
   "execution_count": 252,
   "metadata": {
    "ExecuteTime": {
     "end_time": "2019-03-11T21:58:09.353044Z",
     "start_time": "2019-03-11T21:58:09.326976Z"
    }
   },
   "outputs": [
    {
     "data": {
      "text/html": [
       "<div>\n",
       "<style scoped>\n",
       "    .dataframe tbody tr th:only-of-type {\n",
       "        vertical-align: middle;\n",
       "    }\n",
       "\n",
       "    .dataframe tbody tr th {\n",
       "        vertical-align: top;\n",
       "    }\n",
       "\n",
       "    .dataframe thead th {\n",
       "        text-align: right;\n",
       "    }\n",
       "</style>\n",
       "<table border=\"1\" class=\"dataframe\">\n",
       "  <thead>\n",
       "    <tr style=\"text-align: right;\">\n",
       "      <th></th>\n",
       "      <th>source_system</th>\n",
       "      <th>job_id</th>\n",
       "      <th>application_id</th>\n",
       "      <th>opened_date</th>\n",
       "      <th>closed_date</th>\n",
       "      <th>cancelled_date</th>\n",
       "      <th>req_approved_date</th>\n",
       "      <th>created_at</th>\n",
       "      <th>open_status</th>\n",
       "      <th>closed_status</th>\n",
       "      <th>...</th>\n",
       "      <th>base_comp_offered</th>\n",
       "      <th>sign_on_offered</th>\n",
       "      <th>rsu_offered</th>\n",
       "      <th>job_location</th>\n",
       "      <th>is_offered</th>\n",
       "      <th>is_hoboken</th>\n",
       "      <th>is_sb</th>\n",
       "      <th>is_d</th>\n",
       "      <th>is_o</th>\n",
       "      <th>is_b</th>\n",
       "    </tr>\n",
       "  </thead>\n",
       "  <tbody>\n",
       "    <tr>\n",
       "      <th>0</th>\n",
       "      <td>Greenhouse</td>\n",
       "      <td>563024</td>\n",
       "      <td>77997448</td>\n",
       "      <td>9/6/2017</td>\n",
       "      <td>9/11/2018</td>\n",
       "      <td>9/11/2018</td>\n",
       "      <td>9/6/2017</td>\n",
       "      <td>9/6/2017</td>\n",
       "      <td>1</td>\n",
       "      <td>1.0</td>\n",
       "      <td>...</td>\n",
       "      <td>NaN</td>\n",
       "      <td>NaN</td>\n",
       "      <td>NaN</td>\n",
       "      <td>NaN</td>\n",
       "      <td>0</td>\n",
       "      <td>1</td>\n",
       "      <td>0</td>\n",
       "      <td>0</td>\n",
       "      <td>0</td>\n",
       "      <td>0</td>\n",
       "    </tr>\n",
       "    <tr>\n",
       "      <th>1</th>\n",
       "      <td>Greenhouse</td>\n",
       "      <td>467303</td>\n",
       "      <td>64158963</td>\n",
       "      <td>5/9/2017</td>\n",
       "      <td>10/26/2018</td>\n",
       "      <td>10/26/2018</td>\n",
       "      <td>5/9/2017</td>\n",
       "      <td>5/9/2017</td>\n",
       "      <td>1</td>\n",
       "      <td>1.0</td>\n",
       "      <td>...</td>\n",
       "      <td>NaN</td>\n",
       "      <td>NaN</td>\n",
       "      <td>NaN</td>\n",
       "      <td>NaN</td>\n",
       "      <td>0</td>\n",
       "      <td>1</td>\n",
       "      <td>0</td>\n",
       "      <td>0</td>\n",
       "      <td>0</td>\n",
       "      <td>0</td>\n",
       "    </tr>\n",
       "    <tr>\n",
       "      <th>2</th>\n",
       "      <td>Greenhouse</td>\n",
       "      <td>851998</td>\n",
       "      <td>107936610</td>\n",
       "      <td>8/28/2018</td>\n",
       "      <td>NaN</td>\n",
       "      <td>NaN</td>\n",
       "      <td>8/28/2018</td>\n",
       "      <td>8/28/2018</td>\n",
       "      <td>1</td>\n",
       "      <td>NaN</td>\n",
       "      <td>...</td>\n",
       "      <td>NaN</td>\n",
       "      <td>NaN</td>\n",
       "      <td>NaN</td>\n",
       "      <td>NaN</td>\n",
       "      <td>0</td>\n",
       "      <td>1</td>\n",
       "      <td>0</td>\n",
       "      <td>0</td>\n",
       "      <td>0</td>\n",
       "      <td>0</td>\n",
       "    </tr>\n",
       "    <tr>\n",
       "      <th>3</th>\n",
       "      <td>Greenhouse</td>\n",
       "      <td>563024</td>\n",
       "      <td>69074136</td>\n",
       "      <td>9/6/2017</td>\n",
       "      <td>9/11/2018</td>\n",
       "      <td>9/11/2018</td>\n",
       "      <td>9/6/2017</td>\n",
       "      <td>9/6/2017</td>\n",
       "      <td>1</td>\n",
       "      <td>1.0</td>\n",
       "      <td>...</td>\n",
       "      <td>NaN</td>\n",
       "      <td>NaN</td>\n",
       "      <td>NaN</td>\n",
       "      <td>NaN</td>\n",
       "      <td>0</td>\n",
       "      <td>1</td>\n",
       "      <td>0</td>\n",
       "      <td>0</td>\n",
       "      <td>0</td>\n",
       "      <td>0</td>\n",
       "    </tr>\n",
       "    <tr>\n",
       "      <th>4</th>\n",
       "      <td>Greenhouse</td>\n",
       "      <td>851998</td>\n",
       "      <td>102047283</td>\n",
       "      <td>8/28/2018</td>\n",
       "      <td>NaN</td>\n",
       "      <td>NaN</td>\n",
       "      <td>8/28/2018</td>\n",
       "      <td>8/28/2018</td>\n",
       "      <td>1</td>\n",
       "      <td>NaN</td>\n",
       "      <td>...</td>\n",
       "      <td>NaN</td>\n",
       "      <td>NaN</td>\n",
       "      <td>NaN</td>\n",
       "      <td>NaN</td>\n",
       "      <td>0</td>\n",
       "      <td>1</td>\n",
       "      <td>0</td>\n",
       "      <td>0</td>\n",
       "      <td>0</td>\n",
       "      <td>0</td>\n",
       "    </tr>\n",
       "  </tbody>\n",
       "</table>\n",
       "<p>5 rows × 71 columns</p>\n",
       "</div>"
      ],
      "text/plain": [
       "  source_system  job_id  application_id opened_date closed_date  \\\n",
       "0    Greenhouse  563024        77997448    9/6/2017   9/11/2018   \n",
       "1    Greenhouse  467303        64158963    5/9/2017  10/26/2018   \n",
       "2    Greenhouse  851998       107936610   8/28/2018         NaN   \n",
       "3    Greenhouse  563024        69074136    9/6/2017   9/11/2018   \n",
       "4    Greenhouse  851998       102047283   8/28/2018         NaN   \n",
       "\n",
       "  cancelled_date req_approved_date created_at  open_status  closed_status  \\\n",
       "0      9/11/2018          9/6/2017   9/6/2017            1            1.0   \n",
       "1     10/26/2018          5/9/2017   5/9/2017            1            1.0   \n",
       "2            NaN         8/28/2018  8/28/2018            1            NaN   \n",
       "3      9/11/2018          9/6/2017   9/6/2017            1            1.0   \n",
       "4            NaN         8/28/2018  8/28/2018            1            NaN   \n",
       "\n",
       "  ...  base_comp_offered  sign_on_offered  rsu_offered job_location  \\\n",
       "0 ...                NaN              NaN          NaN          NaN   \n",
       "1 ...                NaN              NaN          NaN          NaN   \n",
       "2 ...                NaN              NaN          NaN          NaN   \n",
       "3 ...                NaN              NaN          NaN          NaN   \n",
       "4 ...                NaN              NaN          NaN          NaN   \n",
       "\n",
       "   is_offered is_hoboken is_sb is_d is_o is_b  \n",
       "0           0          1     0    0    0    0  \n",
       "1           0          1     0    0    0    0  \n",
       "2           0          1     0    0    0    0  \n",
       "3           0          1     0    0    0    0  \n",
       "4           0          1     0    0    0    0  \n",
       "\n",
       "[5 rows x 71 columns]"
      ]
     },
     "execution_count": 252,
     "metadata": {},
     "output_type": "execute_result"
    }
   ],
   "source": [
    "columns_to_keep = [\n",
    "    'job_title',\n",
    "    'primary_location',\n",
    "    'job_location',\n",
    "    'current_status.1',\n",
    "    'is_offered',\n",
    "    'is_hoboken',\n",
    "    'is_sb',\n",
    "    'is_d',\n",
    "    'is_b'\n",
    "]\n",
    "\n",
    "feature_cols = [\n",
    "    'is_hoboken',\n",
    "    'is_sb',\n",
    "    'is_d',\n",
    "    'is_b'\n",
    "]\n",
    "\n",
    "file.head()"
   ]
  },
  {
   "cell_type": "code",
   "execution_count": 207,
   "metadata": {
    "ExecuteTime": {
     "end_time": "2019-03-11T21:29:13.939725Z",
     "start_time": "2019-03-11T21:29:13.875395Z"
    }
   },
   "outputs": [],
   "source": [
    "# file.replace(replace_map_comp, inplace = True)"
   ]
  },
  {
   "cell_type": "code",
   "execution_count": 208,
   "metadata": {
    "ExecuteTime": {
     "end_time": "2019-03-11T21:29:14.765660Z",
     "start_time": "2019-03-11T21:29:14.760689Z"
    }
   },
   "outputs": [],
   "source": [
    "# file['candidate_source'].fillna(0, inplace = True)"
   ]
  },
  {
   "cell_type": "code",
   "execution_count": 253,
   "metadata": {
    "ExecuteTime": {
     "end_time": "2019-03-11T21:58:11.712089Z",
     "start_time": "2019-03-11T21:58:11.702564Z"
    }
   },
   "outputs": [],
   "source": [
    "file2 = file[columns_to_keep]"
   ]
  },
  {
   "cell_type": "code",
   "execution_count": 254,
   "metadata": {
    "ExecuteTime": {
     "end_time": "2019-03-11T21:58:13.971187Z",
     "start_time": "2019-03-11T21:58:13.968180Z"
    }
   },
   "outputs": [],
   "source": [
    "df = pd.DataFrame(file2)"
   ]
  },
  {
   "cell_type": "code",
   "execution_count": 255,
   "metadata": {
    "ExecuteTime": {
     "end_time": "2019-03-11T21:58:14.708188Z",
     "start_time": "2019-03-11T21:58:14.683121Z"
    }
   },
   "outputs": [],
   "source": [
    "df = df[~df['job_title'].str.contains('Lead')]"
   ]
  },
  {
   "cell_type": "code",
   "execution_count": 256,
   "metadata": {
    "ExecuteTime": {
     "end_time": "2019-03-11T21:58:15.301212Z",
     "start_time": "2019-03-11T21:58:15.297204Z"
    }
   },
   "outputs": [],
   "source": [
    "x = df[feature_cols]\n",
    "y = df.is_offered"
   ]
  },
  {
   "cell_type": "code",
   "execution_count": 257,
   "metadata": {
    "ExecuteTime": {
     "end_time": "2019-03-11T21:58:16.851429Z",
     "start_time": "2019-03-11T21:58:16.844409Z"
    }
   },
   "outputs": [],
   "source": [
    "from sklearn.model_selection import train_test_split\n",
    "x_train, x_test, y_train, y_test = train_test_split(x, y, test_size = .1, random_state = 5)"
   ]
  },
  {
   "cell_type": "code",
   "execution_count": 258,
   "metadata": {
    "ExecuteTime": {
     "end_time": "2019-03-11T21:58:17.693418Z",
     "start_time": "2019-03-11T21:58:17.689407Z"
    }
   },
   "outputs": [],
   "source": [
    "from sklearn.linear_model import LogisticRegression"
   ]
  },
  {
   "cell_type": "code",
   "execution_count": 259,
   "metadata": {
    "ExecuteTime": {
     "end_time": "2019-03-11T21:58:18.460853Z",
     "start_time": "2019-03-11T21:58:18.438794Z"
    }
   },
   "outputs": [
    {
     "name": "stderr",
     "output_type": "stream",
     "text": [
      "C:\\Users\\maxwell.lee\\AppData\\Local\\Continuum\\anaconda3\\lib\\site-packages\\sklearn\\linear_model\\logistic.py:433: FutureWarning: Default solver will be changed to 'lbfgs' in 0.22. Specify a solver to silence this warning.\n",
      "  FutureWarning)\n"
     ]
    }
   ],
   "source": [
    "logreg = LogisticRegression(class_weight = 'balanced')\n",
    "logreg.fit(x_train, y_train)\n",
    "y_pred = logreg.predict(x_test)"
   ]
  },
  {
   "cell_type": "code",
   "execution_count": 260,
   "metadata": {
    "ExecuteTime": {
     "end_time": "2019-03-11T21:58:19.233266Z",
     "start_time": "2019-03-11T21:58:19.223239Z"
    }
   },
   "outputs": [
    {
     "data": {
      "text/plain": [
       "array([[1081,  635],\n",
       "       [  72,   70]], dtype=int64)"
      ]
     },
     "execution_count": 260,
     "metadata": {},
     "output_type": "execute_result"
    }
   ],
   "source": [
    "from sklearn import metrics\n",
    "cnf_matrix = metrics.confusion_matrix(y_test, y_pred)\n",
    "cnf_matrix"
   ]
  },
  {
   "cell_type": "code",
   "execution_count": 241,
   "metadata": {
    "ExecuteTime": {
     "end_time": "2019-03-11T21:40:50.134761Z",
     "start_time": "2019-03-11T21:40:50.122730Z"
    }
   },
   "outputs": [
    {
     "name": "stdout",
     "output_type": "stream",
     "text": [
      "Accuracy: 0.6194833153928956\n",
      "Precision: 0.09929078014184398\n",
      "Recall: 0.49295774647887325\n"
     ]
    }
   ],
   "source": [
    "print(\"Accuracy:\",metrics.accuracy_score(y_test, y_pred))\n",
    "print(\"Precision:\",metrics.precision_score(y_test, y_pred))\n",
    "print(\"Recall:\",metrics.recall_score(y_test, y_pred))"
   ]
  },
  {
   "cell_type": "code",
   "execution_count": 261,
   "metadata": {
    "ExecuteTime": {
     "end_time": "2019-03-11T21:58:23.464007Z",
     "start_time": "2019-03-11T21:58:23.455987Z"
    }
   },
   "outputs": [],
   "source": [
    "y_pred_proba = logreg.predict_proba(x_test)[::,1]\n",
    "fpr, tpr, _ = metrics.roc_curve(y_test,  y_pred_proba)\n",
    "auc = metrics.roc_auc_score(y_test, y_pred_proba)"
   ]
  },
  {
   "cell_type": "code",
   "execution_count": 262,
   "metadata": {
    "ExecuteTime": {
     "end_time": "2019-03-11T21:58:24.653212Z",
     "start_time": "2019-03-11T21:58:24.649204Z"
    }
   },
   "outputs": [
    {
     "data": {
      "text/plain": [
       "0.5644062510259694"
      ]
     },
     "execution_count": 262,
     "metadata": {},
     "output_type": "execute_result"
    }
   ],
   "source": [
    "auc"
   ]
  },
  {
   "cell_type": "code",
   "execution_count": 263,
   "metadata": {
    "ExecuteTime": {
     "end_time": "2019-03-11T21:58:25.315220Z",
     "start_time": "2019-03-11T21:58:25.310206Z"
    }
   },
   "outputs": [
    {
     "data": {
      "text/plain": [
       "array([[-0.58297139, -0.0373347 , -0.72377512, -0.79069622]])"
      ]
     },
     "execution_count": 263,
     "metadata": {},
     "output_type": "execute_result"
    }
   ],
   "source": [
    "logreg.coef_"
   ]
  },
  {
   "cell_type": "code",
   "execution_count": 264,
   "metadata": {
    "ExecuteTime": {
     "end_time": "2019-03-11T21:58:26.308675Z",
     "start_time": "2019-03-11T21:58:26.303674Z"
    }
   },
   "outputs": [
    {
     "data": {
      "text/plain": [
       "['is_hoboken', 'is_sb', 'is_d', 'is_b']"
      ]
     },
     "execution_count": 264,
     "metadata": {},
     "output_type": "execute_result"
    }
   ],
   "source": [
    "feature_cols"
   ]
  },
  {
   "cell_type": "code",
   "execution_count": null,
   "metadata": {},
   "outputs": [],
   "source": []
  }
 ],
 "metadata": {
  "kernelspec": {
   "display_name": "Python 3",
   "language": "python",
   "name": "python3"
  },
  "language_info": {
   "codemirror_mode": {
    "name": "ipython",
    "version": 3
   },
   "file_extension": ".py",
   "mimetype": "text/x-python",
   "name": "python",
   "nbconvert_exporter": "python",
   "pygments_lexer": "ipython3",
   "version": "3.7.1"
  }
 },
 "nbformat": 4,
 "nbformat_minor": 2
}
